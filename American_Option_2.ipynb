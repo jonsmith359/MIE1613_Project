{
 "cells": [
  {
   "cell_type": "code",
   "execution_count": 1,
   "metadata": {
    "collapsed": true
   },
   "outputs": [],
   "source": [
    "import pandas as pd\n",
    "\n",
    "import numpy as np\n",
    "from scipy.stats import norm\n",
    "import mean_confidence_interval as conf\n",
    "import geometric_brownian_motion as gbm\n",
    "\n",
    "import math\n",
    "import matplotlib.pyplot as plt\n",
    "%matplotlib inline "
   ]
  },
  {
   "cell_type": "code",
   "execution_count": 2,
   "metadata": {
    "collapsed": true
   },
   "outputs": [],
   "source": [
    "# Option parameters\n",
    "S0 = 1\n",
    "K = 1.1\n",
    "T = 3\n",
    "dt = 1\n",
    "r = 0.06\n",
    "n = 8"
   ]
  },
  {
   "cell_type": "code",
   "execution_count": 56,
   "metadata": {
    "collapsed": false
   },
   "outputs": [
    {
     "name": "stdout",
     "output_type": "stream",
     "text": [
      "[[ 1.34  1.08  1.09  1.  ]\n",
      " [ 1.54  1.26  1.16  1.  ]\n",
      " [ 1.03  1.07  1.22  1.  ]\n",
      " [ 0.92  0.97  0.93  1.  ]\n",
      " [ 1.52  1.56  1.11  1.  ]\n",
      " [ 0.9   0.77  0.76  1.  ]\n",
      " [ 1.01  0.84  0.92  1.  ]\n",
      " [ 1.34  1.22  0.88  1.  ]]\n",
      "[[ 0.    0.02  0.01  0.1 ]\n",
      " [ 0.    0.    0.    0.1 ]\n",
      " [ 0.07  0.03  0.    0.1 ]\n",
      " [ 0.18  0.13  0.17  0.1 ]\n",
      " [ 0.    0.    0.    0.1 ]\n",
      " [ 0.2   0.33  0.34  0.1 ]\n",
      " [ 0.09  0.26  0.18  0.1 ]\n",
      " [ 0.    0.    0.22  0.1 ]]\n"
     ]
    }
   ],
   "source": [
    "# Generate sample stock paths\n",
    "paths = np.vstack([[1, 1.09, 1.08, 1.34],[1, 1.16, 1.26, 1.54],[1, 1.22, 1.07, 1.03],[1, 0.93, 0.97, 0.92],\n",
    "           [1, 1.11, 1.56, 1.52],[1, 0.76, 0.77, 0.90],[1, 0.92, 0.84, 1.01],[1, 0.88, 1.22, 1.34]])\n",
    "# paths = pd.DataFrame(paths,columns=['t=0','t=1','t=2','t=3'],)\n",
    "payout = K - paths\n",
    "payout[payout < 0] = 0\n",
    "paths_rev = np.flip(paths,1)\n",
    "payout_rev = np.flip(payout,1)\n",
    "# paths_rev = paths.iloc[:, ::-1]\n",
    "# payout_rev = payout.iloc[:, ::-1]\n",
    "print (paths_rev)\n",
    "print (payout_rev)"
   ]
  },
  {
   "cell_type": "code",
   "execution_count": 57,
   "metadata": {
    "collapsed": false
   },
   "outputs": [
    {
     "name": "stdout",
     "output_type": "stream",
     "text": [
      "\n",
      " [ 0.    0.    0.07  0.18  0.    0.2   0.09  0.  ]\n",
      "[ 0.02  0.    0.03  0.13  0.    0.33  0.26  0.  ]\n",
      "(0,)\n",
      "(1,)\n",
      "(2,)\n",
      "0.07\n",
      "(3,)\n",
      "0.18\n",
      "(4,)\n",
      "0.0\n",
      "\n",
      " [ 0.    0.    0.    0.    0.    0.2   0.09  0.  ]\n",
      "[ 0.          0.06592352  0.13        0.33        0.26        0.33        0.26\n",
      "  0.        ]\n",
      "0.0 0.0\n",
      "0.0 0.0659235173509\n",
      "0.0 0.13\n",
      "0.0 0.33\n",
      "0.0 0.26\n",
      "0.2 0.33\n",
      "0.09 0.26\n",
      "0.0 0.0\n",
      "\n",
      " [ 0.    0.    0.    0.    0.    0.2   0.09  0.  ]\n",
      "[ 0.          0.06592352  0.13        0.33        0.26        0.33        0.26\n",
      "  0.        ]\n",
      "Option Value:  0.03625\n"
     ]
    }
   ],
   "source": [
    "for i in range(payout_rev.shape[1]-1):\n",
    "    payout_1 = payout_rev[:,i]\n",
    "    payout_2 = payout_rev[:,i+1]\n",
    "    \n",
    "    print ('\\n',payout_rev[:,i])\n",
    "    print (payout_rev[:,i+1])\n",
    "    \n",
    "    # x - prices of stocks at timestep t, if non-zero payout at time t-1\n",
    "    # paths - stock prices, .iloc[:,i+1] - limit to timestep t, .iloc[payout_2.nonzero()] - limit to nonzero t-1 payoffs \n",
    "    x = paths_rev[:,i+1][payout_2.nonzero()]\n",
    "    # y - holding value from time t-1 to t\n",
    "    HV = np.exp(-r)*payout_1[payout_2.nonzero()]\n",
    "    \n",
    "    # Fit quadratic regression\n",
    "    c,b,a = np.polyfit(x,HV,2)\n",
    "\n",
    "    # Find expected holding value based on regression\n",
    "    E_HV = a + b * x + c * np.square(x)\n",
    "    \n",
    "    # Find Exercise value at time t-1\n",
    "    EV = payout_2[payout_2.nonzero()]\n",
    "    \n",
    "    # overwrite payoffs at t and t-1\n",
    "    # indexes of EV>E_HV\n",
    "    for pos,ev in np.ndenumerate(EV):\n",
    "        # if EV>E_HV, payout at t-1 is corresponding EV, and payout at t = 0\n",
    "        print (pos)\n",
    "        \n",
    "        if ev>E_HV[pos]:\n",
    "            print (payout_1[pos])\n",
    "            payout_1[pos]=0\n",
    "            payout_2[pos]=EV[pos]\n",
    "        # if EV<E_HV, payout (value) at t-1 is corresponding HV\n",
    "        else:\n",
    "            payout_2[pos]=HV[pos]\n",
    "    print ('\\n',payout_rev[:,i])\n",
    "    print (payout_rev[:,i+1])\n",
    "    \n",
    "    # Find cases where holding is optimal, and overwrite t-1 payout with discounted t HV\n",
    "    for pos,p1 in np.ndenumerate(payout_1):\n",
    "        print (p1,payout_2[pos])\n",
    "        if p1>payout_2[pos]:\n",
    "            payout_2[pos] = np.exp(-r)*payout_1[pos]\n",
    "    \n",
    "    print ('\\n',payout_rev[:,i])\n",
    "    print (payout_rev[:,i+1])\n",
    "    break\n",
    "print ('Option Value: ', np.mean(payout_rev[:,0]))"
   ]
  },
  {
   "cell_type": "code",
   "execution_count": 26,
   "metadata": {
    "collapsed": false
   },
   "outputs": [
    {
     "data": {
      "text/plain": [
       "array([[ 0.        ,  0.        ,  0.        ,  0.29268374],\n",
       "       [ 0.        ,  0.        ,  0.        ,  0.32019994],\n",
       "       [ 0.        ,  0.        ,  0.        ,  0.29268374],\n",
       "       [ 0.        ,  0.        ,  0.22      ,  0.32019994],\n",
       "       [ 0.        ,  0.        ,  0.        ,  0.32019994],\n",
       "       [ 0.2       ,  0.        ,  0.24485878,  0.23059931],\n",
       "       [ 0.09      ,  0.        ,  0.22      ,  0.2071882 ],\n",
       "       [ 0.        ,  0.        ,  0.22      ,  0.2071882 ]])"
      ]
     },
     "execution_count": 26,
     "metadata": {},
     "output_type": "execute_result"
    }
   ],
   "source": [
    "payout_rev"
   ]
  },
  {
   "cell_type": "code",
   "execution_count": 30,
   "metadata": {
    "collapsed": false
   },
   "outputs": [
    {
     "data": {
      "text/plain": [
       "array([ 0.  ,  0.  ,  0.  ,  0.  ,  0.  ,  0.2 ,  0.09,  0.  ])"
      ]
     },
     "execution_count": 30,
     "metadata": {},
     "output_type": "execute_result"
    }
   ],
   "source": [
    "payout_rev[:,0]"
   ]
  },
  {
   "cell_type": "code",
   "execution_count": null,
   "metadata": {
    "collapsed": true
   },
   "outputs": [],
   "source": []
  }
 ],
 "metadata": {
  "kernelspec": {
   "display_name": "Python 3",
   "language": "python",
   "name": "python3"
  },
  "language_info": {
   "codemirror_mode": {
    "name": "ipython",
    "version": 3
   },
   "file_extension": ".py",
   "mimetype": "text/x-python",
   "name": "python",
   "nbconvert_exporter": "python",
   "pygments_lexer": "ipython3",
   "version": "3.6.0"
  }
 },
 "nbformat": 4,
 "nbformat_minor": 2
}
