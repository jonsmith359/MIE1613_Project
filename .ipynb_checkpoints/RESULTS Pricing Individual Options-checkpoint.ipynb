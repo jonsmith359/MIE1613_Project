{
 "cells": [
  {
   "cell_type": "code",
   "execution_count": 1,
   "metadata": {
    "collapsed": true
   },
   "outputs": [],
   "source": [
    "# Standard Libraries\n",
    "import numpy as np\n",
    "import pandas as pd\n",
    "import matplotlib.pyplot as plt\n",
    "import seaborn as sns\n",
    "%matplotlib inline\n",
    "\n",
    "# Custom Libraries\n",
    "from geometric_brownian_motion import BRW as gbm\n",
    "from Option_Portfolio import OptionPortfolio\n",
    "import European_Option\n",
    "import Asian_Option\n",
    "import American_Option"
   ]
  },
  {
   "cell_type": "code",
   "execution_count": 2,
   "metadata": {
    "collapsed": true
   },
   "outputs": [],
   "source": [
    "# Specify stock/option parameters\n",
    "r = 0.05\n",
    "T = 1.0\n",
    "S0 = 100\n",
    "mu = 0.05\n",
    "sigma = 0.2\n",
    "K = 106\n",
    "reps = 10000\n",
    "steps = 10"
   ]
  },
  {
   "cell_type": "markdown",
   "metadata": {},
   "source": [
    "# European Option"
   ]
  },
  {
   "cell_type": "code",
   "execution_count": 3,
   "metadata": {
    "collapsed": false
   },
   "outputs": [
    {
     "name": "stdout",
     "output_type": "stream",
     "text": [
      "Black-Scholes Valuation:  7.59029030993\n",
      "Monte-Carlo Valuation:  7.79879807207  +/-  0.255855391598\n"
     ]
    }
   ],
   "source": [
    "# Call\n",
    "paths = gbm(drift=mu, sigma=sigma, S0=S0, T=T, paths=reps, steps=steps)\n",
    "eur_call = European_Option.EuropeanOption(contract='call', r=r, T=T, S0=S0, mu=mu, sigma=sigma, K=K, paths=paths)\n",
    "print 'Black-Scholes Valuation: ',eur_call.BS_value()\n",
    "print 'Monte-Carlo Valuation: ', eur_call.value[0],' +/- ',eur_call.value[1]"
   ]
  },
  {
   "cell_type": "code",
   "execution_count": 4,
   "metadata": {
    "collapsed": false
   },
   "outputs": [
    {
     "name": "stdout",
     "output_type": "stream",
     "text": [
      "Black-Scholes Valuation:  8.420609307\n",
      "Monte-Carlo Valuation:  8.30741178086  +/-  0.208904455319\n"
     ]
    }
   ],
   "source": [
    "# Put\n",
    "paths = gbm(drift=mu, sigma=sigma, S0=S0, T=T, paths=reps, steps=steps)\n",
    "eur_put = European_Option.EuropeanOption(contract='put', r=r, T=T, S0=S0, mu=mu, sigma=sigma, K=K, paths=paths)\n",
    "print 'Black-Scholes Valuation: ',eur_put.BS_value()\n",
    "print 'Monte-Carlo Valuation: ', eur_put.value[0],' +/- ',eur_put.value[1]"
   ]
  },
  {
   "cell_type": "markdown",
   "metadata": {},
   "source": [
    "# Asian Option"
   ]
  },
  {
   "cell_type": "code",
   "execution_count": 5,
   "metadata": {
    "collapsed": false
   },
   "outputs": [
    {
     "name": "stdout",
     "output_type": "stream",
     "text": [
      "Monte-Carlo Valuation:  3.18306679512  +/-  0.119654857234\n"
     ]
    }
   ],
   "source": [
    "# Call\n",
    "paths = gbm(drift=mu, sigma=sigma, S0=S0, T=T, paths=reps, steps=steps)\n",
    "asi_call = Asian_Option.AsianOption(contract='call', r=r, T=T, S0=S0, mu=mu, sigma=sigma, K=K, paths=paths)\n",
    "print 'Monte-Carlo Valuation: ', asi_call.value[0],' +/- ',asi_call.value[1]"
   ]
  },
  {
   "cell_type": "code",
   "execution_count": 6,
   "metadata": {
    "collapsed": false
   },
   "outputs": [
    {
     "name": "stdout",
     "output_type": "stream",
     "text": [
      "Monte-Carlo Valuation:  6.31992940954  +/-  0.138599995111\n"
     ]
    }
   ],
   "source": [
    "# Put\n",
    "paths = gbm(drift=mu, sigma=sigma, S0=S0, T=T, paths=reps, steps=steps)\n",
    "asi_put = Asian_Option.AsianOption(contract='put', r=r, T=T, S0=S0, mu=mu, sigma=sigma, K=K, paths=paths)\n",
    "print 'Monte-Carlo Valuation: ', asi_put.value[0],' +/- ',asi_put.value[1]"
   ]
  },
  {
   "cell_type": "markdown",
   "metadata": {},
   "source": [
    "# American Option"
   ]
  },
  {
   "cell_type": "code",
   "execution_count": 7,
   "metadata": {
    "collapsed": false
   },
   "outputs": [
    {
     "name": "stdout",
     "output_type": "stream",
     "text": [
      "Monte-Carlo Valuation:  7.74789197294  +/-  0.255436312003\n"
     ]
    }
   ],
   "source": [
    "# Call\n",
    "paths = gbm(drift=mu, sigma=sigma, S0=S0, T=T, paths=reps, steps=steps)\n",
    "amr_call = American_Option.AmericanOption(contract='call', r=r, T=T, S0=S0, mu=mu, sigma=sigma, K=K, paths=paths, exercise={'exercise':1.0})\n",
    "print 'Monte-Carlo Valuation: ', amr_call.value[0],' +/- ',amr_call.value[1]"
   ]
  },
  {
   "cell_type": "code",
   "execution_count": 8,
   "metadata": {
    "collapsed": false
   },
   "outputs": [
    {
     "name": "stdout",
     "output_type": "stream",
     "text": [
      "Monte-Carlo Valuation:  9.0692778038  +/-  0.164283245461\n"
     ]
    }
   ],
   "source": [
    "# put\n",
    "paths = gbm(drift=mu, sigma=sigma, S0=S0, T=T, paths=reps, steps=steps)\n",
    "amr_put = American_Option.AmericanOption(contract='put', r=r, T=T, S0=S0, mu=mu, sigma=sigma, K=K, paths=paths, exercise={'exercise':1.0})\n",
    "print 'Monte-Carlo Valuation: ', amr_put.value[0],' +/- ',amr_put.value[1]"
   ]
  },
  {
   "cell_type": "code",
   "execution_count": null,
   "metadata": {
    "collapsed": true
   },
   "outputs": [],
   "source": []
  }
 ],
 "metadata": {
  "kernelspec": {
   "display_name": "Python 2",
   "language": "python",
   "name": "python2"
  },
  "language_info": {
   "codemirror_mode": {
    "name": "ipython",
    "version": 2
   },
   "file_extension": ".py",
   "mimetype": "text/x-python",
   "name": "python",
   "nbconvert_exporter": "python",
   "pygments_lexer": "ipython2",
   "version": "2.7.13"
  }
 },
 "nbformat": 4,
 "nbformat_minor": 2
}
