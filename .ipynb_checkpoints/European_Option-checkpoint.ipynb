{
 "cells": [
  {
   "cell_type": "code",
   "execution_count": 4,
   "metadata": {
    "collapsed": false
   },
   "outputs": [],
   "source": [
    "import numpy as np\n",
    "from scipy.stats import norm\n",
    "import mean_confidence_interval as conf\n",
    "import geometric_brownian_motion as gbm"
   ]
  },
  {
   "cell_type": "code",
   "execution_count": 16,
   "metadata": {
    "collapsed": false
   },
   "outputs": [],
   "source": [
    "class EuropeanOption(object):\n",
    "    '''\n",
    "    Class for European Option valuation\n",
    "    contract - option contract (put or call)\n",
    "    S0 - initial stock value\n",
    "    K - strike price\n",
    "    T - time to maturity (years)\n",
    "    r - annual risk free rate \n",
    "    mu - expected return\n",
    "    sigma - volatility\n",
    "    steps - number of steps in discretization\n",
    "    reps - number of simulations \n",
    "    '''\n",
    "    # Constructor\n",
    "    def __init__(self,contract,S0,K,T,r,mu,sigma,steps,reps):\n",
    "        self.contract = contract\n",
    "        self.S0 = float(S0)\n",
    "        self.K = float(K)\n",
    "        self.T = float(T)\n",
    "        self.r = float(r)\n",
    "        self.mu = float(mu)\n",
    "        self.sigma = float(sigma)\n",
    "        self.steps = steps\n",
    "        self.reps = reps\n",
    "        self.interval = float(T/steps)\n",
    "        if (contract != 'call') & (contract != 'put'):\n",
    "            raise ValueError('Invalid Contract Type. Specify <call> or <put>')\n",
    "        self.value = self.Sim_value()\n",
    "    def BS_value(self):\n",
    "        '''\n",
    "        Return European option value using Black-Scholes equation\n",
    "        '''\n",
    "        d1 = (1/(self.sigma*self.T))*(np.log(self.S0/self.K)+(self.r+0.5*self.sigma**2)*self.T)\n",
    "        d2 = d1 - self.sigma*self.T\n",
    "        if self.contract =='call':\n",
    "            value = norm.cdf(d1)*self.S0 - norm.cdf(d2)*self.K*np.exp(-self.r*self.T)\n",
    "        elif self.contract =='put':\n",
    "            value = norm.cdf(-d2)*self.K*np.exp(-self.r*self.T)-norm.cdf(-d1)*self.S0\n",
    "        return value\n",
    "    def Sim_value(self):\n",
    "        '''\n",
    "        Return European option value using Brownian Random Walk Monte-Carlo simulation\n",
    "        '''\n",
    "        prices = gbm.BRW(self.mu,self.sigma,self.S0,self.T,self.reps,self.steps)\n",
    "        final_price = prices[:,-1]\n",
    "        values=[]\n",
    "        for val in final_price:\n",
    "            if self.contract =='call':\n",
    "                values.append(np.exp(-self.r*self.T)*np.maximum(0.0,val - self.K))\n",
    "            elif self.contract =='put':\n",
    "                values.append(np.exp(-self.r*self.T)*np.maximum(0.0,self.K - val))\n",
    "        value, CI_95 = conf.CI(values)\n",
    "#         error = np.abs(value-self.BS_value())/self.BS_value()\n",
    "        return value, CI_95 #error"
   ]
  },
  {
   "cell_type": "code",
   "execution_count": 17,
   "metadata": {
    "collapsed": false
   },
   "outputs": [
    {
     "name": "stdout",
     "output_type": "stream",
     "text": [
      "Black-Scoles Value: 8.02135223514\n",
      "Simulated Value: (7.9396716446421705, 0.2583137716541507)\n"
     ]
    }
   ],
   "source": [
    "test_call = EuropeanOption(contract='call',S0=100,K=105,T=1,r=0.05,mu=0.05,sigma=0.2,steps=100,reps=10000)\n",
    "print ('Black-Scoles Value:',test_call.BS_value())\n",
    "print ('Simulated Value:',test_call.value)"
   ]
  },
  {
   "cell_type": "code",
   "execution_count": 18,
   "metadata": {
    "collapsed": false
   },
   "outputs": [
    {
     "name": "stdout",
     "output_type": "stream",
     "text": [
      "Black-Scoles Value: 7.90044180772\n",
      "Simulated Value: (7.7869647966630859, 0.20103010008001468)\n"
     ]
    }
   ],
   "source": [
    "test_put = EuropeanOption('put',100,105,1,0.05,0.05,0.2,100,10000)\n",
    "print ('Black-Scoles Value:',test_put.BS_value())\n",
    "print ('Simulated Value:',test_put.value)"
   ]
  },
  {
   "cell_type": "code",
   "execution_count": null,
   "metadata": {
    "collapsed": true
   },
   "outputs": [],
   "source": []
  }
 ],
 "metadata": {
  "kernelspec": {
   "display_name": "Python 3",
   "language": "python",
   "name": "python3"
  },
  "language_info": {
   "codemirror_mode": {
    "name": "ipython",
    "version": 3
   },
   "file_extension": ".py",
   "mimetype": "text/x-python",
   "name": "python",
   "nbconvert_exporter": "python",
   "pygments_lexer": "ipython3",
   "version": "3.6.0"
  }
 },
 "nbformat": 4,
 "nbformat_minor": 2
}
