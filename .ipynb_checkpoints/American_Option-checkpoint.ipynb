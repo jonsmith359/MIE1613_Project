{
 "cells": [
  {
   "cell_type": "code",
   "execution_count": 6,
   "metadata": {
    "collapsed": true
   },
   "outputs": [],
   "source": [
    "import pandas as pd\n",
    "\n",
    "import numpy as np\n",
    "from scipy.stats import norm\n",
    "import mean_confidence_interval as conf\n",
    "import geometric_brownian_motion as gbm\n",
    "\n",
    "import math\n",
    "import matplotlib.pyplot as plt\n",
    "%matplotlib inline "
   ]
  },
  {
   "cell_type": "code",
   "execution_count": 19,
   "metadata": {
    "collapsed": true
   },
   "outputs": [],
   "source": [
    "class AmericanOption(object):\n",
    "    '''\n",
    "    Class for American Option valuation\n",
    "    contract - option contract (put or call)\n",
    "    S0 - initial stock value\n",
    "    K - strike price\n",
    "    T - time to maturity (years)\n",
    "    r - annual risk free rate \n",
    "    mu - expected return\n",
    "    sigma - volatility\n",
    "    steps - number of steps in discretization\n",
    "    reps - number of simulations \n",
    "    '''\n",
    "    # Constructor\n",
    "    def __init__(self,contract,S0,K,T,r,mu,sigma,steps,reps):\n",
    "        self.contract = contract\n",
    "        self.S0 = float(S0)\n",
    "        self.K = float(K)\n",
    "        self.T = float(T)\n",
    "        self.r = float(r)/steps\n",
    "        self.mu = float(mu)\n",
    "        self.sigma = float(sigma)\n",
    "        self.steps = steps\n",
    "        self.reps = reps\n",
    "        self.interval = float(T/steps)\n",
    "        if (contract != 'call') & (contract != 'put'):\n",
    "            raise ValueError('Invalid Contract Type. Specify <call> or <put>')\n",
    "        self.value = self.Sim_value()\n",
    "\n",
    "    def Sim_value(self):\n",
    "        '''\n",
    "        Return European option value using Brownian Random Walk Monte-Carlo simulation\n",
    "        '''\n",
    "        prices = pd.DataFrame(gbm.BRW(drift=self.mu,sigma=self.sigma,S0=self.S0,T=self.T,paths=self.reps,steps=self.steps))\n",
    "        if self.contract =='call':\n",
    "            payout = prices - self.K\n",
    "        elif self.contract =='put':\n",
    "            payout = self.K - prices\n",
    "        \n",
    "        # Set negative payoffs to 0, reverse order of dataframes along time axis\n",
    "        payout[payout < 0] = 0\n",
    "        paths_rev = prices.iloc[:, ::-1]\n",
    "        payout_rev = payout.iloc[:, ::-1]\n",
    "        for i in range(payout_rev.shape[1]-1):\n",
    "            payout_1 = payout_rev.iloc[:,i]\n",
    "            payout_2 = payout_rev.iloc[:,i+1]\n",
    "            \n",
    "            # x - prices of stocks at timestep t, if non-zero payout at time t-1\n",
    "            x = paths_rev.iloc[:,i+1].iloc[payout_2.nonzero()]\n",
    "\n",
    "            # y - holding value from time t-1 to t\n",
    "            HV = np.exp(-self.r)*payout_1.iloc[payout_2.nonzero()]\n",
    "\n",
    "            # Fit quadratic regression\n",
    "            try:\n",
    "                c,b,a = np.polyfit(x,HV,2)\n",
    "            # polyfit will fail in the case of no non-zero payouts:\n",
    "            except:\n",
    "                c,b,a = 0.0,0.0,0.0\n",
    "\n",
    "            # Find expected holding value based on regression\n",
    "            E_HV = a + b * x + c * np.square(x)\n",
    "\n",
    "            # Find Exercise value at time t-1\n",
    "            EV = payout_2.iloc[payout_2.nonzero()]\n",
    "\n",
    "            # indexes of EV>E_HV\n",
    "            for pos,ev in EV.iteritems():\n",
    "                # if EV>E_HV, payout at t-1 is corresponding EV, and payout at t = 0\n",
    "                if ev>E_HV[pos]:\n",
    "                    payout_1[pos]=0\n",
    "                    payout_2[pos]=EV[pos]\n",
    "                # if EV<E_HV, payout (value) at t-1 is corresponding HV\n",
    "                else:\n",
    "                    payout_2[pos]=HV[pos]\n",
    "\n",
    "            # Find cases where holding is optimal, and overwrite t-1 payout with discounted t HV\n",
    "            for pos,p1 in payout_1.iteritems():\n",
    "                if p1>payout_2[pos]:\n",
    "                    payout_2[pos] = np.exp(-self.r)*payout_1.iloc[pos]\n",
    "        \n",
    "        values = payout_rev.iloc[:,-1]\n",
    "        value, CI_95 = conf.CI(values)\n",
    "            \n",
    "        return value, CI_95"
   ]
  },
  {
   "cell_type": "code",
   "execution_count": 20,
   "metadata": {
    "collapsed": false
   },
   "outputs": [
    {
     "name": "stderr",
     "output_type": "stream",
     "text": [
      "/Users/Jonathan/anaconda/envs/ipykernel_py2/lib/python2.7/site-packages/numpy/lib/polynomial.py:595: RankWarning: Polyfit may be poorly conditioned\n",
      "  warnings.warn(msg, RankWarning)\n"
     ]
    },
    {
     "data": {
      "text/plain": [
       "(4.4819599801353709, 0.16719123394457441)"
      ]
     },
     "execution_count": 20,
     "metadata": {},
     "output_type": "execute_result"
    }
   ],
   "source": [
    "americanOption = AmericanOption(contract='put',S0=36,K=40,T=1,r=0.06,mu=0.06,sigma=0.2,steps=100,reps=1000)\n",
    "americanOption.value"
   ]
  },
  {
   "cell_type": "code",
   "execution_count": null,
   "metadata": {
    "collapsed": true
   },
   "outputs": [],
   "source": []
  }
 ],
 "metadata": {
  "kernelspec": {
   "display_name": "Python 2",
   "language": "python",
   "name": "python2"
  },
  "language_info": {
   "codemirror_mode": {
    "name": "ipython",
    "version": 2
   },
   "file_extension": ".py",
   "mimetype": "text/x-python",
   "name": "python",
   "nbconvert_exporter": "python",
   "pygments_lexer": "ipython2",
   "version": "2.7.13"
  }
 },
 "nbformat": 4,
 "nbformat_minor": 2
}
