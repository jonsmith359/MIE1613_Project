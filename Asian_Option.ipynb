{
 "cells": [
  {
   "cell_type": "code",
   "execution_count": 1,
   "metadata": {
    "collapsed": true
   },
   "outputs": [],
   "source": [
    "import numpy as np\n",
    "from scipy.stats import norm\n",
    "import mean_confidence_interval as conf\n",
    "import geometric_brownian_motion as gbm"
   ]
  },
  {
   "cell_type": "code",
   "execution_count": 2,
   "metadata": {
    "collapsed": true
   },
   "outputs": [],
   "source": [
    "class AsianOption(object):\n",
    "    '''\n",
    "    Class for Asian Option valuation\n",
    "    contract - option contract (put or call)\n",
    "    S0 - initial stock value\n",
    "    K - strike price\n",
    "    T - time to maturity (years)\n",
    "    r - annual risk free rate \n",
    "    mu - expected return\n",
    "    sigma - volatility\n",
    "    steps - number of steps in discretization\n",
    "    reps - number of simulations \n",
    "    '''\n",
    "    # Constructor\n",
    "    def __init__(self,contract,S0,K,T,r,mu,sigma,steps,reps):\n",
    "        self.contract = contract\n",
    "        self.S0 = float(S0)\n",
    "        self.K = float(K)\n",
    "        self.T = float(T)\n",
    "        self.r = float(r)\n",
    "        self.mu = float(mu)\n",
    "        self.sigma = float(sigma)\n",
    "        self.steps = steps\n",
    "        self.reps = reps\n",
    "        self.interval = float(T/steps)\n",
    "        if (contract != 'call') & (contract != 'put'):\n",
    "            raise ValueError('Invalid Contract Type. Specify <call> or <put>')\n",
    "        self.value = self.Sim_value()\n",
    "    def Sim_value(self):\n",
    "        '''\n",
    "        Return European option value using Brownian Random Walk Monte-Carlo simulation\n",
    "        '''\n",
    "        prices = gbm.BRW(self.mu,self.sigma,self.S0,self.T,self.reps,self.steps)\n",
    "        ave_price = prices.mean(axis=1)\n",
    "        values=[]\n",
    "        for val in ave_price:\n",
    "            if self.contract =='call':\n",
    "                values.append(np.exp(-self.r*self.T)*np.maximum(0.0,val - self.K))\n",
    "            elif self.contract =='put':\n",
    "                values.append(np.exp(-self.r*self.T)*np.maximum(0.0,self.K - val))\n",
    "        value, CI_95 = conf.CI(values)\n",
    "        return value, CI_95"
   ]
  },
  {
   "cell_type": "code",
   "execution_count": 3,
   "metadata": {
    "collapsed": false
   },
   "outputs": [
    {
     "name": "stdout",
     "output_type": "stream",
     "text": [
      "Simulated Value: (3.4653468312307187, 0.12505979776305728)\n"
     ]
    }
   ],
   "source": [
    "test_call = AsianOption(contract='call',S0=100,K=105,T=1,r=0.05,mu=0.05,sigma=0.2,steps=100,reps=10000)\n",
    "print 'Simulated Value:',test_call.value"
   ]
  },
  {
   "cell_type": "code",
   "execution_count": 4,
   "metadata": {
    "collapsed": false
   },
   "outputs": [
    {
     "name": "stdout",
     "output_type": "stream",
     "text": [
      "Simulated Value: (5.8881161644685491, 0.1358725630795389)\n"
     ]
    }
   ],
   "source": [
    "test_put = AsianOption('put',100,105,1,0.05,0.05,0.2,100,10000)\n",
    "print 'Simulated Value:',test_put.value"
   ]
  },
  {
   "cell_type": "code",
   "execution_count": null,
   "metadata": {
    "collapsed": true
   },
   "outputs": [],
   "source": []
  }
 ],
 "metadata": {
  "kernelspec": {
   "display_name": "Python 2",
   "language": "python",
   "name": "python2"
  },
  "language_info": {
   "codemirror_mode": {
    "name": "ipython",
    "version": 2
   },
   "file_extension": ".py",
   "mimetype": "text/x-python",
   "name": "python",
   "nbconvert_exporter": "python",
   "pygments_lexer": "ipython2",
   "version": "2.7.13"
  }
 },
 "nbformat": 4,
 "nbformat_minor": 2
}
